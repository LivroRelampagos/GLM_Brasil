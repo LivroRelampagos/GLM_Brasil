{
  "cells": [
    {
      "cell_type": "markdown",
      "metadata": {
        "id": "view-in-github",
        "colab_type": "text"
      },
      "source": [
        "<a href=\"https://colab.research.google.com/github/LivroRelampagos/GLM_Brasil/blob/main/C%C3%B3digo_2_2_Gera_NetCDF_Mensal_glm_ELISA.ipynb\" target=\"_parent\"><img src=\"https://colab.research.google.com/assets/colab-badge.svg\" alt=\"Open In Colab\"/></a>"
      ]
    },
    {
      "cell_type": "markdown",
      "metadata": {
        "id": "jnj0Bx6yNZBQ"
      },
      "source": [
        "# **GOES-16: REDE GLM (PARTE II.II)**\n",
        "\n",
        "**Gera arquivo Netcdf Mensal do GLM**\n",
        "\n",
        "\n",
        "---\n",
        "**OBJETIVO:** Este Google Colab acumula os dados de flashes do GLM abordo do GOES-16 para escala **MENSAL**.\n",
        "\n",
        "**DADOS DE ENTRADA**: Dados de flashes do GOES-16. \n",
        "\n",
        "**Dados:** Arquivos de relâmpagos a cada 5 min. **Local:** Os dados são processados e fornecidos pelo CPTEC/INPE e estão disponiveis [aqui](http://ftp.cptec.inpe.br/goes/goes16/goes16_web/glm_acumulado_nc/). \n",
        "**Nome:** S11635949_202011010000.nc.\n",
        "**Formato:** Netcdf\t\n",
        "---\n",
        "**DADOS DE SAÍDA:** Arquivo netcdf de flashes por **MÊS**.\n",
        "---\n",
        "**PROCEDIMENTO REALIZADO:** Os seguintes procedimentos são realizados nesse código:\n",
        "1.   Instalação da biblioteca `pyunpack`\n",
        "2.   Importação das bibliotecas\n",
        "3.   Monta o drive da pessoa\n",
        "4.   Download dos dados através do Drive\n",
        "5.   Descompacta os dados baixados\n",
        "6.   Acumula os flashes por mês\n",
        "7.   Salva os dados mensais num arquivo netcdf\n",
        " \n",
        "---\n",
        "**OBSERVAÇÕES IMPORTANTES**: \n",
        "1. Mudar o caminho para seu drive. Veja em: **###MUDANÇAS AQUI####**\n",
        "---\n",
        "***Realizado por: [João G M Ribeiro](https://github.com/Joaogmr472/) e [Enrique V Mattos](https://github.com/evmpython) - 17/mar/2022*** "
      ]
    },
    {
      "cell_type": "markdown",
      "metadata": {
        "id": "Hehr336l2Gqf"
      },
      "source": [
        "# **###MUDANÇAS AQUI###**"
      ]
    },
    {
      "cell_type": "markdown",
      "metadata": {
        "id": "kxxhE38T2JMd"
      },
      "source": [
        "- Insira o ano desejado"
      ]
    },
    {
      "cell_type": "code",
      "execution_count": null,
      "metadata": {
        "id": "iuN_QKa0036m"
      },
      "outputs": [],
      "source": [
        "ano = '2021'"
      ]
    },
    {
      "cell_type": "markdown",
      "metadata": {
        "id": "YUkGvV6K2Nct"
      },
      "source": [
        "- Insira o caminho do seu drive"
      ]
    },
    {
      "cell_type": "code",
      "execution_count": null,
      "metadata": {
        "id": "vzFFCUfe1jOH"
      },
      "outputs": [],
      "source": [
        "# local dos dados a cada 5 min\n",
        "path_5min = '/content/drive/MyDrive/MESTRADO/DADOS/GLM/DADOS_5min/2021/'\n",
        "\n",
        "# pasta de saída dos dados horários\n",
        "path = '/content/drive/MyDrive/MESTRADO/DADOS/GLM/DADOS_mensal/'"
      ]
    },
    {
      "cell_type": "markdown",
      "metadata": {
        "id": "cWw91sVP3Ot6"
      },
      "source": [
        "# **Instala biblioteca que descompacta arquivos .rar**"
      ]
    },
    {
      "cell_type": "code",
      "execution_count": null,
      "metadata": {
        "colab": {
          "base_uri": "https://localhost:8080/"
        },
        "id": "NS8K7ynYqUwP",
        "outputId": "28ba6e9a-a2d8-4881-b48a-5f7c07cda771"
      },
      "outputs": [
        {
          "output_type": "stream",
          "name": "stdout",
          "text": [
            "Collecting patool\n",
            "  Downloading patool-1.12-py2.py3-none-any.whl (77 kB)\n",
            "\u001b[?25l\r\u001b[K     |████▎                           | 10 kB 16.2 MB/s eta 0:00:01\r\u001b[K     |████████▌                       | 20 kB 18.7 MB/s eta 0:00:01\r\u001b[K     |████████████▊                   | 30 kB 22.1 MB/s eta 0:00:01\r\u001b[K     |█████████████████               | 40 kB 15.6 MB/s eta 0:00:01\r\u001b[K     |█████████████████████▏          | 51 kB 8.0 MB/s eta 0:00:01\r\u001b[K     |█████████████████████████▍      | 61 kB 9.2 MB/s eta 0:00:01\r\u001b[K     |█████████████████████████████▋  | 71 kB 8.1 MB/s eta 0:00:01\r\u001b[K     |████████████████████████████████| 77 kB 2.5 MB/s \n",
            "\u001b[?25hCollecting pyunpack\n",
            "  Downloading pyunpack-0.2.2-py2.py3-none-any.whl (3.8 kB)\n",
            "Collecting easyprocess\n",
            "  Downloading EasyProcess-1.1-py3-none-any.whl (8.7 kB)\n",
            "Collecting entrypoint2\n",
            "  Downloading entrypoint2-1.0-py3-none-any.whl (9.8 kB)\n",
            "Installing collected packages: entrypoint2, easyprocess, pyunpack, patool\n",
            "Successfully installed easyprocess-1.1 entrypoint2-1.0 patool-1.12 pyunpack-0.2.2\n"
          ]
        }
      ],
      "source": [
        "!pip install patool pyunpack"
      ]
    },
    {
      "cell_type": "markdown",
      "metadata": {
        "id": "9Qa5t9tO3Tl4"
      },
      "source": [
        "# **Importa bibliotecas**"
      ]
    },
    {
      "cell_type": "code",
      "execution_count": null,
      "metadata": {
        "id": "zuoDRNyNqeqM"
      },
      "outputs": [],
      "source": [
        "import xarray as xr\n",
        "import time as t\n",
        "import glob\n",
        "import numpy as np\n",
        "from pyunpack import Archive\n",
        "import os\n",
        "import pandas as pd\n",
        "from datetime import datetime\n",
        "from tqdm.notebook import tqdm_notebook\n",
        "\n",
        "import warnings\n",
        "warnings.filterwarnings(\"ignore\")"
      ]
    },
    {
      "cell_type": "markdown",
      "source": [
        "# **Acessando o drive**"
      ],
      "metadata": {
        "id": "AUtHk4ddMcNL"
      }
    },
    {
      "cell_type": "code",
      "source": [
        "from google.colab import drive\n",
        "drive.mount('/content/drive')\n",
        "\n",
        "os.makedirs('input', exist_ok=True)"
      ],
      "metadata": {
        "id": "XF77U68KMYwr",
        "colab": {
          "base_uri": "https://localhost:8080/"
        },
        "outputId": "e2d294b1-c380-476b-8b14-38cb02c845ab"
      },
      "execution_count": null,
      "outputs": [
        {
          "output_type": "stream",
          "name": "stdout",
          "text": [
            "Mounted at /content/drive\n"
          ]
        }
      ]
    },
    {
      "cell_type": "markdown",
      "metadata": {
        "id": "adqWvG7B3hp8"
      },
      "source": [
        "# **Decompacta os arquivos baixados**"
      ]
    },
    {
      "cell_type": "code",
      "execution_count": null,
      "metadata": {
        "colab": {
          "base_uri": "https://localhost:8080/"
        },
        "id": "X76S6U52qewA",
        "outputId": "96a4be3a-de93-4ddf-b650-6232fbac5674"
      },
      "outputs": [
        {
          "output_type": "stream",
          "name": "stdout",
          "text": [
            "1\n",
            "2\n",
            "3\n",
            "4\n",
            "5\n",
            "6\n",
            "7\n",
            "8\n",
            "9\n",
            "10\n",
            "11\n",
            "12\n"
          ]
        }
      ],
      "source": [
        "# Looping para cada mês do ano\n",
        "for i in range(1, 13):\n",
        "  print(i)\n",
        "  Archive(f'{path_5min}{str(i).zfill(2)}.rar').extractall(f'/content/input/') "
      ]
    },
    {
      "cell_type": "markdown",
      "metadata": {
        "id": "Ud2_ve1HnRdN"
      },
      "source": [
        "#**Acumula os dados de flashes: por Mês**"
      ]
    },
    {
      "cell_type": "code",
      "execution_count": null,
      "metadata": {
        "colab": {
          "base_uri": "https://localhost:8080/",
          "referenced_widgets": [
            "b132fc94d83c4008ab845c87a7b5d7c2",
            "94b6c5017afa4dccbced616a1ca97ebf",
            "f95fa4440a4f40c6b1c4a81ea1713652",
            "fc9cd28e47924c35937c68def0303823",
            "7d0bd2d22a784354ba1aef1406560ff4",
            "273f7d313e0e4ca69619cbf4da8818d6",
            "20d71d1c603a41eea1415473f40e9790",
            "2816ae77d0ba4ce7965eeac63d37e7dc",
            "c36e0a93c4d8490c997fa0f22b7bc0ee",
            "3d6d9d4a78a74f86837a72e3a1326165",
            "7b5f6a5a42f8447498712ddaf984a34c"
          ],
          "height": 136
        },
        "id": "9W9Qq7d_0a4f",
        "outputId": "9e69e8a8-e296-426d-bf7a-96e408341a42"
      },
      "outputs": [
        {
          "output_type": "stream",
          "name": "stdout",
          "text": [
            "364 days, 23:00:00\n",
            "2021-01-01 00:00:00\n",
            "20210101 00\n"
          ]
        },
        {
          "output_type": "display_data",
          "data": {
            "text/plain": [
              "  0%|          | 0/12 [00:00<?, ?it/s]"
            ],
            "application/vnd.jupyter.widget-view+json": {
              "version_major": 2,
              "version_minor": 0,
              "model_id": "b132fc94d83c4008ab845c87a7b5d7c2"
            }
          },
          "metadata": {}
        },
        {
          "output_type": "stream",
          "name": "stdout",
          "text": [
            "\n",
            "Tempo de concatenar os dados: 248.50566666666666 minutos.\n"
          ]
        }
      ],
      "source": [
        "# Inicia o contador de tempo\n",
        "start_time = t.time()\n",
        "\n",
        "# Data inicial\n",
        "date_in = datetime(int(ano), 1, 1,0)\n",
        "date_ini = date_in.strftime('%Y%m%d %H') \n",
        "\n",
        "# Data final\n",
        "date_en = datetime(int(ano), 12, 31,23)\n",
        "date_end = date_en.strftime('%Y%m%d %H')\n",
        "\n",
        "# Número  de dias \n",
        "n_days = date_en - date_in\n",
        "\n",
        "print(n_days)\n",
        "print(date_in)\n",
        "print(date_ini)\n",
        "\n",
        "# Loop por mês\n",
        "for file in  tqdm_notebook(pd.date_range(date_ini, date_end, freq='M')):\n",
        "    \n",
        "  # extrai a data\n",
        "  ano = file.strftime('%Y')\n",
        "  mes = file.strftime('%m')\n",
        "\n",
        "  # monta lista de arquivos daquele mês\n",
        "  files = glob.glob(f'/content/input/S11635949_{ano}{mes}*.nc')\n",
        "    \n",
        "  # Se existe arquivos naquele mês\n",
        "  if len(files) > 0:\n",
        "    # leitura dos dados num único dataset\n",
        "    glm = xr.open_mfdataset(f'/content/input/S11635949_{ano}{mes}*.nc', parallel=True)\n",
        "\n",
        "    # reamostra para escala mensal\n",
        "    glm['flash'].resample(time='1M').sum().to_netcdf(f'{path}{ano}/flash_mensal_goes16_{ano}-{mes}.nc') \n",
        "\n",
        "# Contabiliza o tempo para baixar os dados\n",
        "print('\\nTempo de concatenar os dados:', (round((t.time() - start_time),2))/60., 'minutos.')"
      ]
    },
    {
      "cell_type": "code",
      "source": [
        ""
      ],
      "metadata": {
        "id": "5NmmedCwrOgB"
      },
      "execution_count": null,
      "outputs": []
    }
  ],
  "metadata": {
    "colab": {
      "collapsed_sections": [
        "Hehr336l2Gqf",
        "cWw91sVP3Ot6",
        "9Qa5t9tO3Tl4",
        "AUtHk4ddMcNL",
        "adqWvG7B3hp8"
      ],
      "name": "Código_2-2_Gera_NetCDF_Mensal_glm_ELISA.ipynb",
      "provenance": [],
      "include_colab_link": true
    },
    "kernelspec": {
      "display_name": "Python 3",
      "name": "python3"
    },
    "language_info": {
      "name": "python"
    },
    "widgets": {
      "application/vnd.jupyter.widget-state+json": {
        "b132fc94d83c4008ab845c87a7b5d7c2": {
          "model_module": "@jupyter-widgets/controls",
          "model_name": "HBoxModel",
          "model_module_version": "1.5.0",
          "state": {
            "_dom_classes": [],
            "_model_module": "@jupyter-widgets/controls",
            "_model_module_version": "1.5.0",
            "_model_name": "HBoxModel",
            "_view_count": null,
            "_view_module": "@jupyter-widgets/controls",
            "_view_module_version": "1.5.0",
            "_view_name": "HBoxView",
            "box_style": "",
            "children": [
              "IPY_MODEL_94b6c5017afa4dccbced616a1ca97ebf",
              "IPY_MODEL_f95fa4440a4f40c6b1c4a81ea1713652",
              "IPY_MODEL_fc9cd28e47924c35937c68def0303823"
            ],
            "layout": "IPY_MODEL_7d0bd2d22a784354ba1aef1406560ff4"
          }
        },
        "94b6c5017afa4dccbced616a1ca97ebf": {
          "model_module": "@jupyter-widgets/controls",
          "model_name": "HTMLModel",
          "model_module_version": "1.5.0",
          "state": {
            "_dom_classes": [],
            "_model_module": "@jupyter-widgets/controls",
            "_model_module_version": "1.5.0",
            "_model_name": "HTMLModel",
            "_view_count": null,
            "_view_module": "@jupyter-widgets/controls",
            "_view_module_version": "1.5.0",
            "_view_name": "HTMLView",
            "description": "",
            "description_tooltip": null,
            "layout": "IPY_MODEL_273f7d313e0e4ca69619cbf4da8818d6",
            "placeholder": "​",
            "style": "IPY_MODEL_20d71d1c603a41eea1415473f40e9790",
            "value": "100%"
          }
        },
        "f95fa4440a4f40c6b1c4a81ea1713652": {
          "model_module": "@jupyter-widgets/controls",
          "model_name": "FloatProgressModel",
          "model_module_version": "1.5.0",
          "state": {
            "_dom_classes": [],
            "_model_module": "@jupyter-widgets/controls",
            "_model_module_version": "1.5.0",
            "_model_name": "FloatProgressModel",
            "_view_count": null,
            "_view_module": "@jupyter-widgets/controls",
            "_view_module_version": "1.5.0",
            "_view_name": "ProgressView",
            "bar_style": "success",
            "description": "",
            "description_tooltip": null,
            "layout": "IPY_MODEL_2816ae77d0ba4ce7965eeac63d37e7dc",
            "max": 12,
            "min": 0,
            "orientation": "horizontal",
            "style": "IPY_MODEL_c36e0a93c4d8490c997fa0f22b7bc0ee",
            "value": 12
          }
        },
        "fc9cd28e47924c35937c68def0303823": {
          "model_module": "@jupyter-widgets/controls",
          "model_name": "HTMLModel",
          "model_module_version": "1.5.0",
          "state": {
            "_dom_classes": [],
            "_model_module": "@jupyter-widgets/controls",
            "_model_module_version": "1.5.0",
            "_model_name": "HTMLModel",
            "_view_count": null,
            "_view_module": "@jupyter-widgets/controls",
            "_view_module_version": "1.5.0",
            "_view_name": "HTMLView",
            "description": "",
            "description_tooltip": null,
            "layout": "IPY_MODEL_3d6d9d4a78a74f86837a72e3a1326165",
            "placeholder": "​",
            "style": "IPY_MODEL_7b5f6a5a42f8447498712ddaf984a34c",
            "value": " 12/12 [4:08:30&lt;00:00, 1222.10s/it]"
          }
        },
        "7d0bd2d22a784354ba1aef1406560ff4": {
          "model_module": "@jupyter-widgets/base",
          "model_name": "LayoutModel",
          "model_module_version": "1.2.0",
          "state": {
            "_model_module": "@jupyter-widgets/base",
            "_model_module_version": "1.2.0",
            "_model_name": "LayoutModel",
            "_view_count": null,
            "_view_module": "@jupyter-widgets/base",
            "_view_module_version": "1.2.0",
            "_view_name": "LayoutView",
            "align_content": null,
            "align_items": null,
            "align_self": null,
            "border": null,
            "bottom": null,
            "display": null,
            "flex": null,
            "flex_flow": null,
            "grid_area": null,
            "grid_auto_columns": null,
            "grid_auto_flow": null,
            "grid_auto_rows": null,
            "grid_column": null,
            "grid_gap": null,
            "grid_row": null,
            "grid_template_areas": null,
            "grid_template_columns": null,
            "grid_template_rows": null,
            "height": null,
            "justify_content": null,
            "justify_items": null,
            "left": null,
            "margin": null,
            "max_height": null,
            "max_width": null,
            "min_height": null,
            "min_width": null,
            "object_fit": null,
            "object_position": null,
            "order": null,
            "overflow": null,
            "overflow_x": null,
            "overflow_y": null,
            "padding": null,
            "right": null,
            "top": null,
            "visibility": null,
            "width": null
          }
        },
        "273f7d313e0e4ca69619cbf4da8818d6": {
          "model_module": "@jupyter-widgets/base",
          "model_name": "LayoutModel",
          "model_module_version": "1.2.0",
          "state": {
            "_model_module": "@jupyter-widgets/base",
            "_model_module_version": "1.2.0",
            "_model_name": "LayoutModel",
            "_view_count": null,
            "_view_module": "@jupyter-widgets/base",
            "_view_module_version": "1.2.0",
            "_view_name": "LayoutView",
            "align_content": null,
            "align_items": null,
            "align_self": null,
            "border": null,
            "bottom": null,
            "display": null,
            "flex": null,
            "flex_flow": null,
            "grid_area": null,
            "grid_auto_columns": null,
            "grid_auto_flow": null,
            "grid_auto_rows": null,
            "grid_column": null,
            "grid_gap": null,
            "grid_row": null,
            "grid_template_areas": null,
            "grid_template_columns": null,
            "grid_template_rows": null,
            "height": null,
            "justify_content": null,
            "justify_items": null,
            "left": null,
            "margin": null,
            "max_height": null,
            "max_width": null,
            "min_height": null,
            "min_width": null,
            "object_fit": null,
            "object_position": null,
            "order": null,
            "overflow": null,
            "overflow_x": null,
            "overflow_y": null,
            "padding": null,
            "right": null,
            "top": null,
            "visibility": null,
            "width": null
          }
        },
        "20d71d1c603a41eea1415473f40e9790": {
          "model_module": "@jupyter-widgets/controls",
          "model_name": "DescriptionStyleModel",
          "model_module_version": "1.5.0",
          "state": {
            "_model_module": "@jupyter-widgets/controls",
            "_model_module_version": "1.5.0",
            "_model_name": "DescriptionStyleModel",
            "_view_count": null,
            "_view_module": "@jupyter-widgets/base",
            "_view_module_version": "1.2.0",
            "_view_name": "StyleView",
            "description_width": ""
          }
        },
        "2816ae77d0ba4ce7965eeac63d37e7dc": {
          "model_module": "@jupyter-widgets/base",
          "model_name": "LayoutModel",
          "model_module_version": "1.2.0",
          "state": {
            "_model_module": "@jupyter-widgets/base",
            "_model_module_version": "1.2.0",
            "_model_name": "LayoutModel",
            "_view_count": null,
            "_view_module": "@jupyter-widgets/base",
            "_view_module_version": "1.2.0",
            "_view_name": "LayoutView",
            "align_content": null,
            "align_items": null,
            "align_self": null,
            "border": null,
            "bottom": null,
            "display": null,
            "flex": null,
            "flex_flow": null,
            "grid_area": null,
            "grid_auto_columns": null,
            "grid_auto_flow": null,
            "grid_auto_rows": null,
            "grid_column": null,
            "grid_gap": null,
            "grid_row": null,
            "grid_template_areas": null,
            "grid_template_columns": null,
            "grid_template_rows": null,
            "height": null,
            "justify_content": null,
            "justify_items": null,
            "left": null,
            "margin": null,
            "max_height": null,
            "max_width": null,
            "min_height": null,
            "min_width": null,
            "object_fit": null,
            "object_position": null,
            "order": null,
            "overflow": null,
            "overflow_x": null,
            "overflow_y": null,
            "padding": null,
            "right": null,
            "top": null,
            "visibility": null,
            "width": null
          }
        },
        "c36e0a93c4d8490c997fa0f22b7bc0ee": {
          "model_module": "@jupyter-widgets/controls",
          "model_name": "ProgressStyleModel",
          "model_module_version": "1.5.0",
          "state": {
            "_model_module": "@jupyter-widgets/controls",
            "_model_module_version": "1.5.0",
            "_model_name": "ProgressStyleModel",
            "_view_count": null,
            "_view_module": "@jupyter-widgets/base",
            "_view_module_version": "1.2.0",
            "_view_name": "StyleView",
            "bar_color": null,
            "description_width": ""
          }
        },
        "3d6d9d4a78a74f86837a72e3a1326165": {
          "model_module": "@jupyter-widgets/base",
          "model_name": "LayoutModel",
          "model_module_version": "1.2.0",
          "state": {
            "_model_module": "@jupyter-widgets/base",
            "_model_module_version": "1.2.0",
            "_model_name": "LayoutModel",
            "_view_count": null,
            "_view_module": "@jupyter-widgets/base",
            "_view_module_version": "1.2.0",
            "_view_name": "LayoutView",
            "align_content": null,
            "align_items": null,
            "align_self": null,
            "border": null,
            "bottom": null,
            "display": null,
            "flex": null,
            "flex_flow": null,
            "grid_area": null,
            "grid_auto_columns": null,
            "grid_auto_flow": null,
            "grid_auto_rows": null,
            "grid_column": null,
            "grid_gap": null,
            "grid_row": null,
            "grid_template_areas": null,
            "grid_template_columns": null,
            "grid_template_rows": null,
            "height": null,
            "justify_content": null,
            "justify_items": null,
            "left": null,
            "margin": null,
            "max_height": null,
            "max_width": null,
            "min_height": null,
            "min_width": null,
            "object_fit": null,
            "object_position": null,
            "order": null,
            "overflow": null,
            "overflow_x": null,
            "overflow_y": null,
            "padding": null,
            "right": null,
            "top": null,
            "visibility": null,
            "width": null
          }
        },
        "7b5f6a5a42f8447498712ddaf984a34c": {
          "model_module": "@jupyter-widgets/controls",
          "model_name": "DescriptionStyleModel",
          "model_module_version": "1.5.0",
          "state": {
            "_model_module": "@jupyter-widgets/controls",
            "_model_module_version": "1.5.0",
            "_model_name": "DescriptionStyleModel",
            "_view_count": null,
            "_view_module": "@jupyter-widgets/base",
            "_view_module_version": "1.2.0",
            "_view_name": "StyleView",
            "description_width": ""
          }
        }
      }
    }
  },
  "nbformat": 4,
  "nbformat_minor": 0
}