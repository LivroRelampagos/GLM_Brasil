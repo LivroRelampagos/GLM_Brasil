{
  "cells": [
    {
      "cell_type": "markdown",
      "metadata": {
        "id": "view-in-github",
        "colab_type": "text"
      },
      "source": [
        "<a href=\"https://colab.research.google.com/github/LivroRelampagos/GLM_Brasil/blob/main/C%C3%B3digo_1_Baixa_Dados_GLM_Livro_ELISA.ipynb\" target=\"_parent\"><img src=\"https://colab.research.google.com/assets/colab-badge.svg\" alt=\"Open In Colab\"/></a>"
      ]
    },
    {
      "cell_type": "markdown",
      "metadata": {
        "id": "De5HONH_0f73"
      },
      "source": [
        "# **GOES-16: REDE GLM (PARTE I)** \n",
        "\n",
        "Neste Script: \n",
        "\n",
        "\n",
        "1.   Download dos dados do Sensor GLM (GOES-16) diretamente do servidor do CPTEC\n",
        "\n",
        "---\n",
        "**OBSERVAÇÕES IMPORTANTES**: \n",
        "1. Mudar o caminho para seu drive. Veja em: **###MUDANÇAS AQUI####**\n",
        "---\n",
        "***Realizado por: [João G M Ribeiro](https://github.com/Joaogmr472/) e [Enrique V Mattos](https://github.com/evmpython) - 07/mar/2022*** "
      ]
    },
    {
      "cell_type": "markdown",
      "source": [
        "#  **####    MUDANÇAS AQUI    ####**\n"
      ],
      "metadata": {
        "id": "2lVseWKlIXIT"
      }
    },
    {
      "cell_type": "markdown",
      "source": [
        "ESCOLHE A PASTA DO DRIVE EM QUE SERÁ BAIXADO OS DADOS DE RELÂMPAGOS"
      ],
      "metadata": {
        "id": "MfGpMm7eIswI"
      }
    },
    {
      "cell_type": "code",
      "source": [
        "pasta_pc = '/content/drive/MyDrive/MESTRADO/DADOS/GLM/DADOS_horarios/'"
      ],
      "metadata": {
        "id": "iX4lm2VEIWTZ"
      },
      "execution_count": null,
      "outputs": []
    },
    {
      "cell_type": "markdown",
      "source": [
        "Define o ano"
      ],
      "metadata": {
        "id": "R4rI-6O1UnCq"
      }
    },
    {
      "cell_type": "code",
      "execution_count": null,
      "metadata": {
        "id": "IRnS2bXS9QQg"
      },
      "outputs": [],
      "source": [
        "ano = '2021'"
      ]
    },
    {
      "cell_type": "markdown",
      "metadata": {
        "id": "lomA446p7DN5"
      },
      "source": [
        "# **Importa as bibliotecas**"
      ]
    },
    {
      "cell_type": "code",
      "execution_count": null,
      "metadata": {
        "id": "V8rQ81eCv_qz"
      },
      "outputs": [],
      "source": [
        "from bs4 import BeautifulSoup\n",
        "import requests\n",
        "from tqdm.notebook import tqdm_notebook\n",
        "import time\n",
        "\n",
        "import pandas as pd\n",
        "import xarray as xr\n",
        "import numpy as np\n",
        "\n",
        "import warnings\n",
        "warnings.filterwarnings(\"ignore\")"
      ]
    },
    {
      "cell_type": "markdown",
      "source": [
        "importa o google drive"
      ],
      "metadata": {
        "id": "Lrdeh970Jbu7"
      }
    },
    {
      "cell_type": "code",
      "source": [
        "from google.colab import drive\n",
        "drive.mount('/content/drive')\n"
      ],
      "metadata": {
        "id": "YRWshIfDUvsd"
      },
      "execution_count": null,
      "outputs": []
    },
    {
      "cell_type": "markdown",
      "metadata": {
        "id": "ATitKEZYrCkk"
      },
      "source": [
        "# **Montando o link dos dados do servidor do CPTEC**\n",
        "monta o linkdireto do servidor do CPTEC"
      ]
    },
    {
      "cell_type": "code",
      "execution_count": null,
      "metadata": {
        "id": "xqtWYmnG96mK"
      },
      "outputs": [],
      "source": [
        "# ---------------------------------------------------------- #\n",
        "#              BAIXANDO DOS DO GLM \n",
        "# ---------------------------------------------------------- #\n",
        "\n",
        "# Endereço do FTP do CPTEC-INPE\n",
        "ftp_cptec = 'ftp.cptec.inpe.br'\n",
        "\n",
        "# S11635949_202009010000.nc\t (formato do nome do arquivo)\n",
        "path_glm = f'/goes/goes16/goes16_web/glm_acumulado_nc/{ano}/' ; path_total = f'{ftp_cptec}{path_glm}'"
      ]
    },
    {
      "cell_type": "code",
      "execution_count": null,
      "metadata": {
        "colab": {
          "base_uri": "https://localhost:8080/",
          "height": 35
        },
        "id": "xEMNr9OD9-uY",
        "outputId": "c9777624-4615-4d7d-c65c-b7c547c10ceb"
      },
      "outputs": [
        {
          "data": {
            "text/plain": [
              "'http://ftp.cptec.inpe.br/goes/goes16/goes16_web/glm_acumulado_nc/2021/'"
            ]
          },
          "execution_count": 4,
          "metadata": {},
          "output_type": "execute_result"
        }
      ],
      "source": [
        "ext = 'nc'   #extensão dos arquivos netcdf\n",
        "url = 'http://' + path_total\n",
        "url"
      ]
    },
    {
      "cell_type": "markdown",
      "source": [
        "#**Baixa os dados e coloca em pastas mensais**"
      ],
      "metadata": {
        "id": "w3TcCBSVU_zx"
      }
    },
    {
      "cell_type": "code",
      "execution_count": null,
      "metadata": {
        "colab": {
          "base_uri": "https://localhost:8080/",
          "height": 144,
          "referenced_widgets": [
            "1cb5c74ff7ba4ed093347fb0e655738c",
            "84cdfd2a8b8e40a08410b51525060ada",
            "b1ffe0c46f734f3bba259bdab39f394e",
            "84e47446ab4f4331ac618c802251681c",
            "608fff6c701a44cf98e22ab4adc69169",
            "12f3941f65314588be56e3f9d476946c",
            "a7d39412949e429aae96c6975dbf5f85",
            "5987484e1f364833986bffff020a77c8",
            "6283bfaff9674f3db7510afcbb69b8e5",
            "a3238067df5b43d48f4a46f410b96130",
            "dff5b8f3d5004d76bf0898212d10ad62",
            "756f2a4d27c340f9bfcc75c08d66dfc3",
            "c84cc8dc9fcf45e688e8f562a2bf0f8a",
            "65bf40b92ebb4c608bc0a7a0090286f3",
            "bd0de3cb26244534a9bc6992d3e0a48f",
            "12275cdee5f04c79a2f13cb594c7e65b",
            "3ea1c86deb5049408ad837352e087def",
            "a4dea9315e414a2b889a58c0a9051c6b",
            "b70549b4bbab4a73a197209f5aea6d1f",
            "9dab07f4e8ce41f38650cdfb6b2a5a90",
            "14b3c39a9ab946f18b55f4b62e5004a6",
            "842b748bdd2f433c9daa0babb58ae430",
            "c3fb0bfbcf1f436693ce3cceada5ba40",
            "4a46af2384e84826a02764b057fcecae",
            "86aa0699750e45bf9f9f461de2da7e74",
            "201d7c7c47e948eba3b5c555be33e217",
            "662fa5e8db5e4b70a5adfea73fdaedae",
            "5fc88763206145369ca1e1044e50b18b"
          ]
        },
        "id": "by2Plv0qxW72",
        "outputId": "edbe1c80-477f-4fca-a906-7c943252a67d"
      },
      "outputs": [
        {
          "name": "stdout",
          "output_type": "stream",
          "text": [
            "http://ftp.cptec.inpe.br/goes/goes16/goes16_web/glm_acumulado_nc/2021/07/\n"
          ]
        },
        {
          "data": {
            "application/vnd.jupyter.widget-view+json": {
              "model_id": "c3fb0bfbcf1f436693ce3cceada5ba40",
              "version_major": 2,
              "version_minor": 0
            },
            "text/plain": [
              "  0%|          | 0/8511 [00:00<?, ?it/s]"
            ]
          },
          "metadata": {},
          "output_type": "display_data"
        },
        {
          "name": "stdout",
          "output_type": "stream",
          "text": [
            "http://ftp.cptec.inpe.br/goes/goes16/goes16_web/glm_acumulado_nc/2021/08/\n"
          ]
        },
        {
          "data": {
            "application/vnd.jupyter.widget-view+json": {
              "model_id": "4a46af2384e84826a02764b057fcecae",
              "version_major": 2,
              "version_minor": 0
            },
            "text/plain": [
              "  0%|          | 0/8881 [00:00<?, ?it/s]"
            ]
          },
          "metadata": {},
          "output_type": "display_data"
        },
        {
          "name": "stdout",
          "output_type": "stream",
          "text": [
            "http://ftp.cptec.inpe.br/goes/goes16/goes16_web/glm_acumulado_nc/2021/09/\n"
          ]
        },
        {
          "data": {
            "application/vnd.jupyter.widget-view+json": {
              "model_id": "86aa0699750e45bf9f9f461de2da7e74",
              "version_major": 2,
              "version_minor": 0
            },
            "text/plain": [
              "  0%|          | 0/3443 [00:00<?, ?it/s]"
            ]
          },
          "metadata": {},
          "output_type": "display_data"
        },
        {
          "name": "stdout",
          "output_type": "stream",
          "text": [
            "http://ftp.cptec.inpe.br/goes/goes16/goes16_web/glm_acumulado_nc/2021/10/\n"
          ]
        },
        {
          "data": {
            "application/vnd.jupyter.widget-view+json": {
              "model_id": "201d7c7c47e948eba3b5c555be33e217",
              "version_major": 2,
              "version_minor": 0
            },
            "text/plain": [
              "  0%|          | 0/6395 [00:00<?, ?it/s]"
            ]
          },
          "metadata": {},
          "output_type": "display_data"
        },
        {
          "name": "stdout",
          "output_type": "stream",
          "text": [
            "http://ftp.cptec.inpe.br/goes/goes16/goes16_web/glm_acumulado_nc/2021/11/\n"
          ]
        },
        {
          "data": {
            "application/vnd.jupyter.widget-view+json": {
              "model_id": "662fa5e8db5e4b70a5adfea73fdaedae",
              "version_major": 2,
              "version_minor": 0
            },
            "text/plain": [
              "  0%|          | 0/8557 [00:00<?, ?it/s]"
            ]
          },
          "metadata": {},
          "output_type": "display_data"
        },
        {
          "name": "stdout",
          "output_type": "stream",
          "text": [
            "http://ftp.cptec.inpe.br/goes/goes16/goes16_web/glm_acumulado_nc/2021/12/\n"
          ]
        },
        {
          "data": {
            "application/vnd.jupyter.widget-view+json": {
              "model_id": "5fc88763206145369ca1e1044e50b18b",
              "version_major": 2,
              "version_minor": 0
            },
            "text/plain": [
              "  0%|          | 0/8861 [00:00<?, ?it/s]"
            ]
          },
          "metadata": {},
          "output_type": "display_data"
        }
      ],
      "source": [
        "# Faz o looping nos meses\n",
        "for i in range(1,13):\n",
        "    url2 = url + \"{:02d}\".format(i) + '/'  # Monta o link para cada mês\n",
        "    print(url2)\n",
        "\n",
        "    # função que encontra cada dado para baixar os dados\n",
        "    def listFD(url2, ext=''):\n",
        "        page = requests.get(url2).text\n",
        "        soup = BeautifulSoup(page, 'html.parser')\n",
        "        return [url2 + '/' + node.get('href') for node in soup.find_all('a') if node.get('href').endswith(ext)]\n",
        "\n",
        "    for file in tqdm_notebook(listFD(url2, ext)):\n",
        "        !wget -q -c {file} -P {pasta_pc}{ano}/{i}/ # Baixa cada dado em pastas mesnsais\n"
      ]
    },
    {
      "cell_type": "markdown",
      "source": [
        "#**DEIPOIS DE BAIXAR OS DADOS:**\n",
        "Os dados estarão na pasta escolhida: "
      ],
      "metadata": {
        "id": "eJsAF764PTWS"
      }
    },
    {
      "cell_type": "code",
      "source": [
        "print(pasta_pc)"
      ],
      "metadata": {
        "id": "3p4xNpdCP8Uf"
      },
      "execution_count": null,
      "outputs": []
    },
    {
      "cell_type": "markdown",
      "source": [
        "**Deve-se lembrar a localização desta pasta pois será utilizada no próximo script (Código_2_gera_netcdf_Diario_GLM_Livro_ELISA.ipynb)**"
      ],
      "metadata": {
        "id": "d_cdw__MP_IE"
      }
    }
  ],
  "metadata": {
    "colab": {
      "name": "Código_1_Baixa_Dados_GLM_Livro_ELISA.ipynb",
      "provenance": [],
      "collapsed_sections": [
        "2lVseWKlIXIT",
        "lomA446p7DN5",
        "ATitKEZYrCkk",
        "w3TcCBSVU_zx"
      ],
      "include_colab_link": true
    },
    "kernelspec": {
      "display_name": "Python 3 (ipykernel)",
      "language": "python",
      "name": "python3"
    },
    "language_info": {
      "codemirror_mode": {
        "name": "ipython",
        "version": 3
      },
      "file_extension": ".py",
      "mimetype": "text/x-python",
      "name": "python",
      "nbconvert_exporter": "python",
      "pygments_lexer": "ipython3",
      "version": "3.9.7"
    },
    "widgets": {
      "application/vnd.jupyter.widget-state+json": {
        "12275cdee5f04c79a2f13cb594c7e65b": {
          "model_module": "@jupyter-widgets/controls",
          "model_module_version": "1.5.0",
          "model_name": "HTMLModel",
          "state": {
            "_dom_classes": [],
            "_model_module": "@jupyter-widgets/controls",
            "_model_module_version": "1.5.0",
            "_model_name": "HTMLModel",
            "_view_count": null,
            "_view_module": "@jupyter-widgets/controls",
            "_view_module_version": "1.5.0",
            "_view_name": "HTMLView",
            "description": "",
            "description_tooltip": null,
            "layout": "IPY_MODEL_842b748bdd2f433c9daa0babb58ae430",
            "placeholder": "​",
            "style": "IPY_MODEL_14b3c39a9ab946f18b55f4b62e5004a6",
            "value": " 4/7996 [00:12&lt;7:13:29,  3.25s/it]"
          }
        },
        "12f3941f65314588be56e3f9d476946c": {
          "model_module": "@jupyter-widgets/controls",
          "model_module_version": "1.5.0",
          "model_name": "DescriptionStyleModel",
          "state": {
            "_model_module": "@jupyter-widgets/controls",
            "_model_module_version": "1.5.0",
            "_model_name": "DescriptionStyleModel",
            "_view_count": null,
            "_view_module": "@jupyter-widgets/base",
            "_view_module_version": "1.2.0",
            "_view_name": "StyleView",
            "description_width": ""
          }
        },
        "14b3c39a9ab946f18b55f4b62e5004a6": {
          "model_module": "@jupyter-widgets/controls",
          "model_module_version": "1.5.0",
          "model_name": "DescriptionStyleModel",
          "state": {
            "_model_module": "@jupyter-widgets/controls",
            "_model_module_version": "1.5.0",
            "_model_name": "DescriptionStyleModel",
            "_view_count": null,
            "_view_module": "@jupyter-widgets/base",
            "_view_module_version": "1.2.0",
            "_view_name": "StyleView",
            "description_width": ""
          }
        },
        "1cb5c74ff7ba4ed093347fb0e655738c": {
          "model_module": "@jupyter-widgets/controls",
          "model_module_version": "1.5.0",
          "model_name": "HBoxModel",
          "state": {
            "_dom_classes": [],
            "_model_module": "@jupyter-widgets/controls",
            "_model_module_version": "1.5.0",
            "_model_name": "HBoxModel",
            "_view_count": null,
            "_view_module": "@jupyter-widgets/controls",
            "_view_module_version": "1.5.0",
            "_view_name": "HBoxView",
            "box_style": "",
            "children": [
              "IPY_MODEL_b1ffe0c46f734f3bba259bdab39f394e",
              "IPY_MODEL_84e47446ab4f4331ac618c802251681c",
              "IPY_MODEL_608fff6c701a44cf98e22ab4adc69169"
            ],
            "layout": "IPY_MODEL_84cdfd2a8b8e40a08410b51525060ada"
          }
        },
        "3ea1c86deb5049408ad837352e087def": {
          "model_module": "@jupyter-widgets/controls",
          "model_module_version": "1.5.0",
          "model_name": "DescriptionStyleModel",
          "state": {
            "_model_module": "@jupyter-widgets/controls",
            "_model_module_version": "1.5.0",
            "_model_name": "DescriptionStyleModel",
            "_view_count": null,
            "_view_module": "@jupyter-widgets/base",
            "_view_module_version": "1.2.0",
            "_view_name": "StyleView",
            "description_width": ""
          }
        },
        "5987484e1f364833986bffff020a77c8": {
          "model_module": "@jupyter-widgets/controls",
          "model_module_version": "1.5.0",
          "model_name": "ProgressStyleModel",
          "state": {
            "_model_module": "@jupyter-widgets/controls",
            "_model_module_version": "1.5.0",
            "_model_name": "ProgressStyleModel",
            "_view_count": null,
            "_view_module": "@jupyter-widgets/base",
            "_view_module_version": "1.2.0",
            "_view_name": "StyleView",
            "bar_color": null,
            "description_width": ""
          }
        },
        "608fff6c701a44cf98e22ab4adc69169": {
          "model_module": "@jupyter-widgets/controls",
          "model_module_version": "1.5.0",
          "model_name": "HTMLModel",
          "state": {
            "_dom_classes": [],
            "_model_module": "@jupyter-widgets/controls",
            "_model_module_version": "1.5.0",
            "_model_name": "HTMLModel",
            "_view_count": null,
            "_view_module": "@jupyter-widgets/controls",
            "_view_module_version": "1.5.0",
            "_view_name": "HTMLView",
            "description": "",
            "description_tooltip": null,
            "layout": "IPY_MODEL_dff5b8f3d5004d76bf0898212d10ad62",
            "placeholder": "​",
            "style": "IPY_MODEL_a3238067df5b43d48f4a46f410b96130",
            "value": " 8478/8478 [7:41:05&lt;00:00,  3.12s/it]"
          }
        },
        "6283bfaff9674f3db7510afcbb69b8e5": {
          "model_module": "@jupyter-widgets/base",
          "model_module_version": "1.2.0",
          "model_name": "LayoutModel",
          "state": {
            "_model_module": "@jupyter-widgets/base",
            "_model_module_version": "1.2.0",
            "_model_name": "LayoutModel",
            "_view_count": null,
            "_view_module": "@jupyter-widgets/base",
            "_view_module_version": "1.2.0",
            "_view_name": "LayoutView",
            "align_content": null,
            "align_items": null,
            "align_self": null,
            "border": null,
            "bottom": null,
            "display": null,
            "flex": null,
            "flex_flow": null,
            "grid_area": null,
            "grid_auto_columns": null,
            "grid_auto_flow": null,
            "grid_auto_rows": null,
            "grid_column": null,
            "grid_gap": null,
            "grid_row": null,
            "grid_template_areas": null,
            "grid_template_columns": null,
            "grid_template_rows": null,
            "height": null,
            "justify_content": null,
            "justify_items": null,
            "left": null,
            "margin": null,
            "max_height": null,
            "max_width": null,
            "min_height": null,
            "min_width": null,
            "object_fit": null,
            "object_position": null,
            "order": null,
            "overflow": null,
            "overflow_x": null,
            "overflow_y": null,
            "padding": null,
            "right": null,
            "top": null,
            "visibility": null,
            "width": null
          }
        },
        "65bf40b92ebb4c608bc0a7a0090286f3": {
          "model_module": "@jupyter-widgets/controls",
          "model_module_version": "1.5.0",
          "model_name": "HTMLModel",
          "state": {
            "_dom_classes": [],
            "_model_module": "@jupyter-widgets/controls",
            "_model_module_version": "1.5.0",
            "_model_name": "HTMLModel",
            "_view_count": null,
            "_view_module": "@jupyter-widgets/controls",
            "_view_module_version": "1.5.0",
            "_view_name": "HTMLView",
            "description": "",
            "description_tooltip": null,
            "layout": "IPY_MODEL_a4dea9315e414a2b889a58c0a9051c6b",
            "placeholder": "​",
            "style": "IPY_MODEL_3ea1c86deb5049408ad837352e087def",
            "value": "  0%"
          }
        },
        "756f2a4d27c340f9bfcc75c08d66dfc3": {
          "model_module": "@jupyter-widgets/controls",
          "model_module_version": "1.5.0",
          "model_name": "HBoxModel",
          "state": {
            "_dom_classes": [],
            "_model_module": "@jupyter-widgets/controls",
            "_model_module_version": "1.5.0",
            "_model_name": "HBoxModel",
            "_view_count": null,
            "_view_module": "@jupyter-widgets/controls",
            "_view_module_version": "1.5.0",
            "_view_name": "HBoxView",
            "box_style": "",
            "children": [
              "IPY_MODEL_65bf40b92ebb4c608bc0a7a0090286f3",
              "IPY_MODEL_bd0de3cb26244534a9bc6992d3e0a48f",
              "IPY_MODEL_12275cdee5f04c79a2f13cb594c7e65b"
            ],
            "layout": "IPY_MODEL_c84cc8dc9fcf45e688e8f562a2bf0f8a"
          }
        },
        "842b748bdd2f433c9daa0babb58ae430": {
          "model_module": "@jupyter-widgets/base",
          "model_module_version": "1.2.0",
          "model_name": "LayoutModel",
          "state": {
            "_model_module": "@jupyter-widgets/base",
            "_model_module_version": "1.2.0",
            "_model_name": "LayoutModel",
            "_view_count": null,
            "_view_module": "@jupyter-widgets/base",
            "_view_module_version": "1.2.0",
            "_view_name": "LayoutView",
            "align_content": null,
            "align_items": null,
            "align_self": null,
            "border": null,
            "bottom": null,
            "display": null,
            "flex": null,
            "flex_flow": null,
            "grid_area": null,
            "grid_auto_columns": null,
            "grid_auto_flow": null,
            "grid_auto_rows": null,
            "grid_column": null,
            "grid_gap": null,
            "grid_row": null,
            "grid_template_areas": null,
            "grid_template_columns": null,
            "grid_template_rows": null,
            "height": null,
            "justify_content": null,
            "justify_items": null,
            "left": null,
            "margin": null,
            "max_height": null,
            "max_width": null,
            "min_height": null,
            "min_width": null,
            "object_fit": null,
            "object_position": null,
            "order": null,
            "overflow": null,
            "overflow_x": null,
            "overflow_y": null,
            "padding": null,
            "right": null,
            "top": null,
            "visibility": null,
            "width": null
          }
        },
        "84cdfd2a8b8e40a08410b51525060ada": {
          "model_module": "@jupyter-widgets/base",
          "model_module_version": "1.2.0",
          "model_name": "LayoutModel",
          "state": {
            "_model_module": "@jupyter-widgets/base",
            "_model_module_version": "1.2.0",
            "_model_name": "LayoutModel",
            "_view_count": null,
            "_view_module": "@jupyter-widgets/base",
            "_view_module_version": "1.2.0",
            "_view_name": "LayoutView",
            "align_content": null,
            "align_items": null,
            "align_self": null,
            "border": null,
            "bottom": null,
            "display": null,
            "flex": null,
            "flex_flow": null,
            "grid_area": null,
            "grid_auto_columns": null,
            "grid_auto_flow": null,
            "grid_auto_rows": null,
            "grid_column": null,
            "grid_gap": null,
            "grid_row": null,
            "grid_template_areas": null,
            "grid_template_columns": null,
            "grid_template_rows": null,
            "height": null,
            "justify_content": null,
            "justify_items": null,
            "left": null,
            "margin": null,
            "max_height": null,
            "max_width": null,
            "min_height": null,
            "min_width": null,
            "object_fit": null,
            "object_position": null,
            "order": null,
            "overflow": null,
            "overflow_x": null,
            "overflow_y": null,
            "padding": null,
            "right": null,
            "top": null,
            "visibility": null,
            "width": null
          }
        },
        "84e47446ab4f4331ac618c802251681c": {
          "model_module": "@jupyter-widgets/controls",
          "model_module_version": "1.5.0",
          "model_name": "FloatProgressModel",
          "state": {
            "_dom_classes": [],
            "_model_module": "@jupyter-widgets/controls",
            "_model_module_version": "1.5.0",
            "_model_name": "FloatProgressModel",
            "_view_count": null,
            "_view_module": "@jupyter-widgets/controls",
            "_view_module_version": "1.5.0",
            "_view_name": "ProgressView",
            "bar_style": "success",
            "description": "",
            "description_tooltip": null,
            "layout": "IPY_MODEL_6283bfaff9674f3db7510afcbb69b8e5",
            "max": 8478,
            "min": 0,
            "orientation": "horizontal",
            "style": "IPY_MODEL_5987484e1f364833986bffff020a77c8",
            "value": 8478
          }
        },
        "9dab07f4e8ce41f38650cdfb6b2a5a90": {
          "model_module": "@jupyter-widgets/base",
          "model_module_version": "1.2.0",
          "model_name": "LayoutModel",
          "state": {
            "_model_module": "@jupyter-widgets/base",
            "_model_module_version": "1.2.0",
            "_model_name": "LayoutModel",
            "_view_count": null,
            "_view_module": "@jupyter-widgets/base",
            "_view_module_version": "1.2.0",
            "_view_name": "LayoutView",
            "align_content": null,
            "align_items": null,
            "align_self": null,
            "border": null,
            "bottom": null,
            "display": null,
            "flex": null,
            "flex_flow": null,
            "grid_area": null,
            "grid_auto_columns": null,
            "grid_auto_flow": null,
            "grid_auto_rows": null,
            "grid_column": null,
            "grid_gap": null,
            "grid_row": null,
            "grid_template_areas": null,
            "grid_template_columns": null,
            "grid_template_rows": null,
            "height": null,
            "justify_content": null,
            "justify_items": null,
            "left": null,
            "margin": null,
            "max_height": null,
            "max_width": null,
            "min_height": null,
            "min_width": null,
            "object_fit": null,
            "object_position": null,
            "order": null,
            "overflow": null,
            "overflow_x": null,
            "overflow_y": null,
            "padding": null,
            "right": null,
            "top": null,
            "visibility": null,
            "width": null
          }
        },
        "a3238067df5b43d48f4a46f410b96130": {
          "model_module": "@jupyter-widgets/controls",
          "model_module_version": "1.5.0",
          "model_name": "DescriptionStyleModel",
          "state": {
            "_model_module": "@jupyter-widgets/controls",
            "_model_module_version": "1.5.0",
            "_model_name": "DescriptionStyleModel",
            "_view_count": null,
            "_view_module": "@jupyter-widgets/base",
            "_view_module_version": "1.2.0",
            "_view_name": "StyleView",
            "description_width": ""
          }
        },
        "a4dea9315e414a2b889a58c0a9051c6b": {
          "model_module": "@jupyter-widgets/base",
          "model_module_version": "1.2.0",
          "model_name": "LayoutModel",
          "state": {
            "_model_module": "@jupyter-widgets/base",
            "_model_module_version": "1.2.0",
            "_model_name": "LayoutModel",
            "_view_count": null,
            "_view_module": "@jupyter-widgets/base",
            "_view_module_version": "1.2.0",
            "_view_name": "LayoutView",
            "align_content": null,
            "align_items": null,
            "align_self": null,
            "border": null,
            "bottom": null,
            "display": null,
            "flex": null,
            "flex_flow": null,
            "grid_area": null,
            "grid_auto_columns": null,
            "grid_auto_flow": null,
            "grid_auto_rows": null,
            "grid_column": null,
            "grid_gap": null,
            "grid_row": null,
            "grid_template_areas": null,
            "grid_template_columns": null,
            "grid_template_rows": null,
            "height": null,
            "justify_content": null,
            "justify_items": null,
            "left": null,
            "margin": null,
            "max_height": null,
            "max_width": null,
            "min_height": null,
            "min_width": null,
            "object_fit": null,
            "object_position": null,
            "order": null,
            "overflow": null,
            "overflow_x": null,
            "overflow_y": null,
            "padding": null,
            "right": null,
            "top": null,
            "visibility": null,
            "width": null
          }
        },
        "a7d39412949e429aae96c6975dbf5f85": {
          "model_module": "@jupyter-widgets/base",
          "model_module_version": "1.2.0",
          "model_name": "LayoutModel",
          "state": {
            "_model_module": "@jupyter-widgets/base",
            "_model_module_version": "1.2.0",
            "_model_name": "LayoutModel",
            "_view_count": null,
            "_view_module": "@jupyter-widgets/base",
            "_view_module_version": "1.2.0",
            "_view_name": "LayoutView",
            "align_content": null,
            "align_items": null,
            "align_self": null,
            "border": null,
            "bottom": null,
            "display": null,
            "flex": null,
            "flex_flow": null,
            "grid_area": null,
            "grid_auto_columns": null,
            "grid_auto_flow": null,
            "grid_auto_rows": null,
            "grid_column": null,
            "grid_gap": null,
            "grid_row": null,
            "grid_template_areas": null,
            "grid_template_columns": null,
            "grid_template_rows": null,
            "height": null,
            "justify_content": null,
            "justify_items": null,
            "left": null,
            "margin": null,
            "max_height": null,
            "max_width": null,
            "min_height": null,
            "min_width": null,
            "object_fit": null,
            "object_position": null,
            "order": null,
            "overflow": null,
            "overflow_x": null,
            "overflow_y": null,
            "padding": null,
            "right": null,
            "top": null,
            "visibility": null,
            "width": null
          }
        },
        "b1ffe0c46f734f3bba259bdab39f394e": {
          "model_module": "@jupyter-widgets/controls",
          "model_module_version": "1.5.0",
          "model_name": "HTMLModel",
          "state": {
            "_dom_classes": [],
            "_model_module": "@jupyter-widgets/controls",
            "_model_module_version": "1.5.0",
            "_model_name": "HTMLModel",
            "_view_count": null,
            "_view_module": "@jupyter-widgets/controls",
            "_view_module_version": "1.5.0",
            "_view_name": "HTMLView",
            "description": "",
            "description_tooltip": null,
            "layout": "IPY_MODEL_a7d39412949e429aae96c6975dbf5f85",
            "placeholder": "​",
            "style": "IPY_MODEL_12f3941f65314588be56e3f9d476946c",
            "value": "100%"
          }
        },
        "b70549b4bbab4a73a197209f5aea6d1f": {
          "model_module": "@jupyter-widgets/controls",
          "model_module_version": "1.5.0",
          "model_name": "ProgressStyleModel",
          "state": {
            "_model_module": "@jupyter-widgets/controls",
            "_model_module_version": "1.5.0",
            "_model_name": "ProgressStyleModel",
            "_view_count": null,
            "_view_module": "@jupyter-widgets/base",
            "_view_module_version": "1.2.0",
            "_view_name": "StyleView",
            "bar_color": null,
            "description_width": ""
          }
        },
        "bd0de3cb26244534a9bc6992d3e0a48f": {
          "model_module": "@jupyter-widgets/controls",
          "model_module_version": "1.5.0",
          "model_name": "FloatProgressModel",
          "state": {
            "_dom_classes": [],
            "_model_module": "@jupyter-widgets/controls",
            "_model_module_version": "1.5.0",
            "_model_name": "FloatProgressModel",
            "_view_count": null,
            "_view_module": "@jupyter-widgets/controls",
            "_view_module_version": "1.5.0",
            "_view_name": "ProgressView",
            "bar_style": "",
            "description": "",
            "description_tooltip": null,
            "layout": "IPY_MODEL_9dab07f4e8ce41f38650cdfb6b2a5a90",
            "max": 7996,
            "min": 0,
            "orientation": "horizontal",
            "style": "IPY_MODEL_b70549b4bbab4a73a197209f5aea6d1f",
            "value": 4
          }
        },
        "c84cc8dc9fcf45e688e8f562a2bf0f8a": {
          "model_module": "@jupyter-widgets/base",
          "model_module_version": "1.2.0",
          "model_name": "LayoutModel",
          "state": {
            "_model_module": "@jupyter-widgets/base",
            "_model_module_version": "1.2.0",
            "_model_name": "LayoutModel",
            "_view_count": null,
            "_view_module": "@jupyter-widgets/base",
            "_view_module_version": "1.2.0",
            "_view_name": "LayoutView",
            "align_content": null,
            "align_items": null,
            "align_self": null,
            "border": null,
            "bottom": null,
            "display": null,
            "flex": null,
            "flex_flow": null,
            "grid_area": null,
            "grid_auto_columns": null,
            "grid_auto_flow": null,
            "grid_auto_rows": null,
            "grid_column": null,
            "grid_gap": null,
            "grid_row": null,
            "grid_template_areas": null,
            "grid_template_columns": null,
            "grid_template_rows": null,
            "height": null,
            "justify_content": null,
            "justify_items": null,
            "left": null,
            "margin": null,
            "max_height": null,
            "max_width": null,
            "min_height": null,
            "min_width": null,
            "object_fit": null,
            "object_position": null,
            "order": null,
            "overflow": null,
            "overflow_x": null,
            "overflow_y": null,
            "padding": null,
            "right": null,
            "top": null,
            "visibility": null,
            "width": null
          }
        },
        "dff5b8f3d5004d76bf0898212d10ad62": {
          "model_module": "@jupyter-widgets/base",
          "model_module_version": "1.2.0",
          "model_name": "LayoutModel",
          "state": {
            "_model_module": "@jupyter-widgets/base",
            "_model_module_version": "1.2.0",
            "_model_name": "LayoutModel",
            "_view_count": null,
            "_view_module": "@jupyter-widgets/base",
            "_view_module_version": "1.2.0",
            "_view_name": "LayoutView",
            "align_content": null,
            "align_items": null,
            "align_self": null,
            "border": null,
            "bottom": null,
            "display": null,
            "flex": null,
            "flex_flow": null,
            "grid_area": null,
            "grid_auto_columns": null,
            "grid_auto_flow": null,
            "grid_auto_rows": null,
            "grid_column": null,
            "grid_gap": null,
            "grid_row": null,
            "grid_template_areas": null,
            "grid_template_columns": null,
            "grid_template_rows": null,
            "height": null,
            "justify_content": null,
            "justify_items": null,
            "left": null,
            "margin": null,
            "max_height": null,
            "max_width": null,
            "min_height": null,
            "min_width": null,
            "object_fit": null,
            "object_position": null,
            "order": null,
            "overflow": null,
            "overflow_x": null,
            "overflow_y": null,
            "padding": null,
            "right": null,
            "top": null,
            "visibility": null,
            "width": null
          }
        }
      }
    }
  },
  "nbformat": 4,
  "nbformat_minor": 0
}