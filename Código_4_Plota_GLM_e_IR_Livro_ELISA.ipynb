{
  "nbformat": 4,
  "nbformat_minor": 0,
  "metadata": {
    "colab": {
      "name": "Código_4_Plota_GLM_e_IR_Livro_ELISA.ipynb",
      "provenance": [],
      "collapsed_sections": [
        "qj3KTyoc7IWh",
        "snGAcm7DEUcd",
        "lomA446p7DN5",
        "lm9Wtd0VQOXV",
        "ATitKEZYrCkk",
        "PqjLiyLg0aok",
        "jGEANp5CdNOl",
        "SMzPVV4HTXlr",
        "vfm6H-aN84UF",
        "J023HitJIT16",
        "1iW6rtwkfMBm"
      ],
      "include_colab_link": true
    },
    "kernelspec": {
      "display_name": "Python 3",
      "name": "python3"
    },
    "language_info": {
      "name": "python"
    }
  },
  "cells": [
    {
      "cell_type": "markdown",
      "metadata": {
        "id": "view-in-github",
        "colab_type": "text"
      },
      "source": [
        "<a href=\"https://colab.research.google.com/github/LivroRelampagos/GLM_Brasil/blob/main/C%C3%B3digo_4_Plota_GLM_e_IR_Livro_ELISA.ipynb\" target=\"_parent\"><img src=\"https://colab.research.google.com/assets/colab-badge.svg\" alt=\"Open In Colab\"/></a>"
      ]
    },
    {
      "cell_type": "markdown",
      "metadata": {
        "id": "BmLJbiScKSR8"
      },
      "source": [
        "# **GOES-16: REDE GLM (PARTE IV)** \n",
        "\n",
        "**Plota Imagem do Infravermelho e GLM**\n",
        "\n",
        "---\n",
        "\n",
        "---\n",
        "**OBJETIVO:** Este Google Colab ensina como plotar a imagem do canal infravermelho sobreposta com dados de relâmpagos do GLM de uma data específica.\n",
        "\n",
        "**DADOS DE ENTRADA**: Dados de flashes do GOES-16 e Dados de Satélite. \n",
        "\n",
        "**Dados:** \n",
        "\n",
        "1.   **Dados do Sensor GLM:** Arquivos de relâmpagos a cada 5 min. **Local:** Os dados são processados e fornecidos pelo CPTEC/INPE e estão disponiveis [aqui](http://ftp.cptec.inpe.br/goes/goes16/goes16_web/glm_acumulado_nc/), **Nome:** S11635949_202011010000.nc, **Formato:** Netcdf.\n",
        "\n",
        "2.   **Dados do Sensor ABI:** Canal 13 - Infravermelho (10.8 µm) do sensor ABI a bordo do satélite GOES-16. **Local:** Os dados são processados e fornecidos pelo CPTEC/INPE e estão disponiveis [aqui](http://ftp.cptec.inpe.br//goes/goes16/retangular/ch13/), **Nome:** S10635346_202203010000.nc, **Formato:** Netcdf.\n",
        "---\n",
        "\n",
        "---\n",
        "**DADOS DE SAÍDA:**\n",
        "Mapa espacial de Relâmpagos Totais (IN + NS) acumulados em 10 minutos e temperatura de Brilho (°C)\n",
        "---\n",
        "**PROCEDIMENTO REALIZADO:** Os seguintes procedimentos são realizados nesse código:\n",
        "1.   Instalação das bibliotecas de geração de mapas\n",
        "2.   Importação das bibliotecas\n",
        "3.   Monta o drive da pessoa\n",
        "4.   Download dos dados através do servidor do CPTEC/INPE\n",
        "5.   Plota a Figura \n",
        "---\n",
        "**OBSERVAÇÕES IMPORTANTES**: \n",
        "1. Mudar o caminho para seu drive. Veja em: **###MUDANÇAS AQUI####**\n",
        "---\n",
        "***Realizado por: [João G M Ribeiro](https://github.com/Joaogmr472/) e [Enrique V Mattos](https://github.com/evmpython) - 29/mar/2022*** \n",
        "---\n"
      ]
    },
    {
      "cell_type": "markdown",
      "source": [
        "# **#########    MUDANÇAS AQUI    #########**"
      ],
      "metadata": {
        "id": "Z8w6Sb9iL5tq"
      }
    },
    {
      "cell_type": "code",
      "source": [
        "# Pasta para a Saída das Figuras\n",
        "path_fig = f'/content/drive/MyDrive/JOAO_GABRIEL_MESTRADO/MESTRADO/DADOS/GLM/figuras/'"
      ],
      "metadata": {
        "id": "qfVARDM0L53A"
      },
      "execution_count": null,
      "outputs": []
    },
    {
      "cell_type": "markdown",
      "source": [
        "Escolhe a data para o plot da imagem"
      ],
      "metadata": {
        "id": "SrEp8WEcMTOl"
      }
    },
    {
      "cell_type": "code",
      "execution_count": null,
      "metadata": {
        "id": "TUFy9-J05FvS"
      },
      "outputs": [],
      "source": [
        "ano = '2022'\n",
        "mes = '03'\n",
        "dia = '06'\n",
        "hor = '17'\n",
        "minu = '30'"
      ]
    },
    {
      "cell_type": "markdown",
      "metadata": {
        "id": "qj3KTyoc7IWh"
      },
      "source": [
        "# **Instalando as bibliotecas**"
      ]
    },
    {
      "cell_type": "code",
      "metadata": {
        "colab": {
          "base_uri": "https://localhost:8080/"
        },
        "id": "TXQ41t6czExV",
        "outputId": "a3b32272-1856-402d-9108-d5ecc0103f70"
      },
      "source": [
        "# Instalando o cartopy (usado para gerar Mapas)\n",
        "!apt-get install libproj-dev proj-data proj-bin\n",
        "!apt-get install libgeos-dev\n",
        "!pip install --no-binary shapely shapely --force\n",
        "!pip install cartopy\n",
        "\n",
        "# Instalando o proplot (usado para gerar Mapas também)\n",
        "!pip install proplot==0.6.4"
      ],
      "execution_count": null,
      "outputs": [
        {
          "output_type": "stream",
          "name": "stdout",
          "text": [
            "Reading package lists... Done\n",
            "Building dependency tree       \n",
            "Reading state information... Done\n",
            "libproj-dev is already the newest version (4.9.3-2).\n",
            "libproj-dev set to manually installed.\n",
            "proj-data is already the newest version (4.9.3-2).\n",
            "proj-data set to manually installed.\n",
            "The following NEW packages will be installed:\n",
            "  proj-bin\n",
            "0 upgraded, 1 newly installed, 0 to remove and 39 not upgraded.\n",
            "Need to get 32.3 kB of archives.\n",
            "After this operation, 110 kB of additional disk space will be used.\n",
            "Get:1 http://archive.ubuntu.com/ubuntu bionic/universe amd64 proj-bin amd64 4.9.3-2 [32.3 kB]\n",
            "Fetched 32.3 kB in 0s (72.6 kB/s)\n",
            "Selecting previously unselected package proj-bin.\n",
            "(Reading database ... 156210 files and directories currently installed.)\n",
            "Preparing to unpack .../proj-bin_4.9.3-2_amd64.deb ...\n",
            "Unpacking proj-bin (4.9.3-2) ...\n",
            "Setting up proj-bin (4.9.3-2) ...\n",
            "Processing triggers for man-db (2.8.3-2ubuntu0.1) ...\n",
            "Reading package lists... Done\n",
            "Building dependency tree       \n",
            "Reading state information... Done\n",
            "libgeos-dev is already the newest version (3.6.2-1build2).\n",
            "libgeos-dev set to manually installed.\n",
            "0 upgraded, 0 newly installed, 0 to remove and 39 not upgraded.\n",
            "Collecting shapely\n",
            "  Downloading Shapely-1.8.1.post1.tar.gz (198 kB)\n",
            "\u001b[K     |████████████████████████████████| 198 kB 4.9 MB/s \n",
            "\u001b[?25h  Installing build dependencies ... \u001b[?25l\u001b[?25hdone\n",
            "  Getting requirements to build wheel ... \u001b[?25l\u001b[?25hdone\n",
            "    Preparing wheel metadata ... \u001b[?25l\u001b[?25hdone\n",
            "Building wheels for collected packages: shapely\n",
            "  Building wheel for shapely (PEP 517) ... \u001b[?25l\u001b[?25hdone\n",
            "  Created wheel for shapely: filename=Shapely-1.8.1.post1-cp37-cp37m-linux_x86_64.whl size=665659 sha256=1a3205581b40f6289d83612285127be4109e84c8a79dd53db8ccfbc23de257df\n",
            "  Stored in directory: /root/.cache/pip/wheels/ea/8d/2f/ab748b8a432b3c6cd72e751b3bca17c5a9ed4538b1e78467e6\n",
            "Successfully built shapely\n",
            "Installing collected packages: shapely\n",
            "  Attempting uninstall: shapely\n",
            "    Found existing installation: Shapely 1.8.1.post1\n",
            "    Uninstalling Shapely-1.8.1.post1:\n",
            "      Successfully uninstalled Shapely-1.8.1.post1\n",
            "\u001b[31mERROR: pip's dependency resolver does not currently take into account all the packages that are installed. This behaviour is the source of the following dependency conflicts.\n",
            "albumentations 0.1.12 requires imgaug<0.2.7,>=0.2.5, but you have imgaug 0.2.9 which is incompatible.\u001b[0m\n",
            "Successfully installed shapely-1.8.1.post1\n",
            "Collecting cartopy\n",
            "  Downloading Cartopy-0.20.2.tar.gz (10.8 MB)\n",
            "\u001b[K     |████████████████████████████████| 10.8 MB 5.5 MB/s \n",
            "\u001b[?25h  Installing build dependencies ... \u001b[?25l\u001b[?25hdone\n",
            "  Getting requirements to build wheel ... \u001b[?25l\u001b[?25herror\n",
            "\u001b[33mWARNING: Discarding https://files.pythonhosted.org/packages/f6/55/1e1c737dc9436b320deead73d1c455ddbb74b8b6992081863492f6f6378a/Cartopy-0.20.2.tar.gz#sha256=4d08c198ecaa50a6a6b109d0f14c070e813defc046a83ac5d7ab494f85599e35 (from https://pypi.org/simple/cartopy/) (requires-python:>=3.7). Command errored out with exit status 1: /usr/bin/python3 /usr/local/lib/python3.7/dist-packages/pip/_vendor/pep517/in_process/_in_process.py get_requires_for_build_wheel /tmp/tmpf7o0olg7 Check the logs for full command output.\u001b[0m\n",
            "  Downloading Cartopy-0.20.1.tar.gz (10.8 MB)\n",
            "\u001b[K     |████████████████████████████████| 10.8 MB 32.9 MB/s \n",
            "\u001b[?25h  Installing build dependencies ... \u001b[?25l\u001b[?25hdone\n",
            "  Getting requirements to build wheel ... \u001b[?25l\u001b[?25herror\n",
            "\u001b[33mWARNING: Discarding https://files.pythonhosted.org/packages/fc/59/aa52698e3838f4cd0e7eaa75bd86837e9e0b05041dbdaee3cda2fffced06/Cartopy-0.20.1.tar.gz#sha256=91f87b130e2574547a20cd634498df97d797abd12dcfd0235bc0cdbcec8b05e3 (from https://pypi.org/simple/cartopy/) (requires-python:>=3.7). Command errored out with exit status 1: /usr/bin/python3 /usr/local/lib/python3.7/dist-packages/pip/_vendor/pep517/in_process/_in_process.py get_requires_for_build_wheel /tmp/tmp373prh6q Check the logs for full command output.\u001b[0m\n",
            "  Downloading Cartopy-0.20.0.tar.gz (10.8 MB)\n",
            "\u001b[K     |████████████████████████████████| 10.8 MB 37.9 MB/s \n",
            "\u001b[?25h  Installing build dependencies ... \u001b[?25l\u001b[?25hdone\n",
            "  Getting requirements to build wheel ... \u001b[?25l\u001b[?25herror\n",
            "\u001b[33mWARNING: Discarding https://files.pythonhosted.org/packages/0f/c0/58453b036e79046d211f083880d58dcce787e7e07647ac25dc46c6555099/Cartopy-0.20.0.tar.gz#sha256=eae58aff26806e63cf115b2bce9477cedc4aa9f578c5e477b2c25cfa404f2b7a (from https://pypi.org/simple/cartopy/) (requires-python:>=3.7). Command errored out with exit status 1: /usr/bin/python3 /usr/local/lib/python3.7/dist-packages/pip/_vendor/pep517/in_process/_in_process.py get_requires_for_build_wheel /tmp/tmpe3qqnu6j Check the logs for full command output.\u001b[0m\n",
            "  Downloading Cartopy-0.19.0.post1.tar.gz (12.1 MB)\n",
            "\u001b[K     |████████████████████████████████| 12.1 MB 48.9 MB/s \n",
            "\u001b[?25h  Installing build dependencies ... \u001b[?25l\u001b[?25hdone\n",
            "  Getting requirements to build wheel ... \u001b[?25l\u001b[?25hdone\n",
            "    Preparing wheel metadata ... \u001b[?25l\u001b[?25hdone\n",
            "Requirement already satisfied: shapely>=1.5.6 in /usr/local/lib/python3.7/dist-packages (from cartopy) (1.8.1.post1)\n",
            "Requirement already satisfied: numpy>=1.13.3 in /usr/local/lib/python3.7/dist-packages (from cartopy) (1.21.5)\n",
            "Collecting pyshp>=2\n",
            "  Downloading pyshp-2.2.0-py3-none-any.whl (44 kB)\n",
            "\u001b[K     |████████████████████████████████| 44 kB 2.7 MB/s \n",
            "\u001b[?25hBuilding wheels for collected packages: cartopy\n",
            "  Building wheel for cartopy (PEP 517) ... \u001b[?25l\u001b[?25hdone\n",
            "  Created wheel for cartopy: filename=Cartopy-0.19.0.post1-cp37-cp37m-linux_x86_64.whl size=12516283 sha256=957d69987bd2c15078d039589ce43d9fe95074d69b9a3b1863076202c1c13279\n",
            "  Stored in directory: /root/.cache/pip/wheels/98/01/f7/bd10aeb96fe4b518cde5f7c4f5e12c7202f85b7353a5017847\n",
            "Successfully built cartopy\n",
            "Installing collected packages: pyshp, cartopy\n",
            "Successfully installed cartopy-0.19.0.post1 pyshp-2.2.0\n",
            "Collecting proplot==0.6.4\n",
            "  Downloading proplot-0.6.4-py2.py3-none-any.whl (7.9 MB)\n",
            "\u001b[K     |████████████████████████████████| 7.9 MB 5.5 MB/s \n",
            "\u001b[?25hRequirement already satisfied: matplotlib in /usr/local/lib/python3.7/dist-packages (from proplot==0.6.4) (3.2.2)\n",
            "Requirement already satisfied: python-dateutil>=2.1 in /usr/local/lib/python3.7/dist-packages (from matplotlib->proplot==0.6.4) (2.8.2)\n",
            "Requirement already satisfied: pyparsing!=2.0.4,!=2.1.2,!=2.1.6,>=2.0.1 in /usr/local/lib/python3.7/dist-packages (from matplotlib->proplot==0.6.4) (3.0.7)\n",
            "Requirement already satisfied: kiwisolver>=1.0.1 in /usr/local/lib/python3.7/dist-packages (from matplotlib->proplot==0.6.4) (1.4.0)\n",
            "Requirement already satisfied: cycler>=0.10 in /usr/local/lib/python3.7/dist-packages (from matplotlib->proplot==0.6.4) (0.11.0)\n",
            "Requirement already satisfied: numpy>=1.11 in /usr/local/lib/python3.7/dist-packages (from matplotlib->proplot==0.6.4) (1.21.5)\n",
            "Requirement already satisfied: typing-extensions in /usr/local/lib/python3.7/dist-packages (from kiwisolver>=1.0.1->matplotlib->proplot==0.6.4) (3.10.0.2)\n",
            "Requirement already satisfied: six>=1.5 in /usr/local/lib/python3.7/dist-packages (from python-dateutil>=2.1->matplotlib->proplot==0.6.4) (1.15.0)\n",
            "Installing collected packages: proplot\n",
            "Successfully installed proplot-0.6.4\n"
          ]
        }
      ]
    },
    {
      "cell_type": "markdown",
      "metadata": {
        "id": "snGAcm7DEUcd"
      },
      "source": [
        "# **Download de informações auxiliares**"
      ]
    },
    {
      "cell_type": "code",
      "metadata": {
        "colab": {
          "base_uri": "https://localhost:8080/"
        },
        "id": "XhvnqldzEVgd",
        "outputId": "3540e71c-ebaa-42ef-ab04-6177c745c7bf"
      },
      "source": [
        "# Criando os diretórios de entrada e saida\n",
        "import os\n",
        "os.makedirs('input', exist_ok=True)\n",
        "os.makedirs('arquivos_auxiliares', exist_ok=True)\n",
        "\n",
        "# Baixando os arquivos de shapefile dos estados brasileiros\n",
        "!wget -c https://geoftp.ibge.gov.br/organizacao_do_territorio/malhas_territoriais/malhas_municipais/municipio_2019/Brasil/BR/br_unidades_da_federacao.zip -P /content/arquivos_auxiliares/ \n",
        "print('\\n')\n",
        "\n",
        "# Descomprimindo o arquivo de shapefile dos estados brasileiros\n",
        "!unzip -o  /content/arquivos_auxiliares/br_unidades_da_federacao.zip -d /content/arquivos_auxiliares/\n",
        "print('\\n')\n",
        "\n",
        "# Baixa paleta de cores\n",
        "!wget -c https://www.dropbox.com/s/t7b8x2i3gnsq8gv/cpt_convert.py \n",
        "!wget -c https://www.dropbox.com/s/74vlk75bkh3fzaz/IR4AVHRR6.cpt"
      ],
      "execution_count": null,
      "outputs": [
        {
          "output_type": "stream",
          "name": "stdout",
          "text": [
            "--2022-03-30 11:55:00--  https://geoftp.ibge.gov.br/organizacao_do_territorio/malhas_territoriais/malhas_municipais/municipio_2019/Brasil/BR/br_unidades_da_federacao.zip\n",
            "Resolving geoftp.ibge.gov.br (geoftp.ibge.gov.br)... 191.233.136.86\n",
            "Connecting to geoftp.ibge.gov.br (geoftp.ibge.gov.br)|191.233.136.86|:443... connected.\n",
            "HTTP request sent, awaiting response... 200 OK\n",
            "Length: 10912177 (10M) [application/zip]\n",
            "Saving to: ‘/content/arquivos_auxiliares/br_unidades_da_federacao.zip’\n",
            "\n",
            "br_unidades_da_fede 100%[===================>]  10.41M  7.18MB/s    in 1.5s    \n",
            "\n",
            "2022-03-30 11:55:03 (7.18 MB/s) - ‘/content/arquivos_auxiliares/br_unidades_da_federacao.zip’ saved [10912177/10912177]\n",
            "\n",
            "\n",
            "\n",
            "Archive:  /content/arquivos_auxiliares/br_unidades_da_federacao.zip\n",
            " extracting: /content/arquivos_auxiliares/BR_UF_2019.cpg  \n",
            "  inflating: /content/arquivos_auxiliares/BR_UF_2019.dbf  \n",
            "  inflating: /content/arquivos_auxiliares/BR_UF_2019.prj  \n",
            "  inflating: /content/arquivos_auxiliares/BR_UF_2019.shp  \n",
            "  inflating: /content/arquivos_auxiliares/BR_UF_2019.shx  \n",
            "\n",
            "\n",
            "--2022-03-30 11:55:03--  https://www.dropbox.com/s/t7b8x2i3gnsq8gv/cpt_convert.py\n",
            "Resolving www.dropbox.com (www.dropbox.com)... 162.125.3.18, 2620:100:6018:18::a27d:312\n",
            "Connecting to www.dropbox.com (www.dropbox.com)|162.125.3.18|:443... connected.\n",
            "HTTP request sent, awaiting response... 301 Moved Permanently\n",
            "Location: /s/raw/t7b8x2i3gnsq8gv/cpt_convert.py [following]\n",
            "--2022-03-30 11:55:03--  https://www.dropbox.com/s/raw/t7b8x2i3gnsq8gv/cpt_convert.py\n",
            "Reusing existing connection to www.dropbox.com:443.\n",
            "HTTP request sent, awaiting response... 302 Found\n",
            "Location: https://ucd07af67b860c4e7c0f534cf0d1.dl.dropboxusercontent.com/cd/0/inline/BidU2d291-0GKZChYfSM2Q1msVccz0mpkrK7UL4862uHmOcOGCIyA_sPjXnUXjQjZpFmbdTxWL-xnVNmfy5mKbSqxuuW8agGWaL5jpBPRWiwIqWFBnDGjCrawZq15txZgAZCdpmtBnE44MFbrjcWOSLK2DhhK3z3Z5tIbo8fc1S2Lw/file# [following]\n",
            "--2022-03-30 11:55:03--  https://ucd07af67b860c4e7c0f534cf0d1.dl.dropboxusercontent.com/cd/0/inline/BidU2d291-0GKZChYfSM2Q1msVccz0mpkrK7UL4862uHmOcOGCIyA_sPjXnUXjQjZpFmbdTxWL-xnVNmfy5mKbSqxuuW8agGWaL5jpBPRWiwIqWFBnDGjCrawZq15txZgAZCdpmtBnE44MFbrjcWOSLK2DhhK3z3Z5tIbo8fc1S2Lw/file\n",
            "Resolving ucd07af67b860c4e7c0f534cf0d1.dl.dropboxusercontent.com (ucd07af67b860c4e7c0f534cf0d1.dl.dropboxusercontent.com)... 162.125.5.15, 2620:100:6018:15::a27d:30f\n",
            "Connecting to ucd07af67b860c4e7c0f534cf0d1.dl.dropboxusercontent.com (ucd07af67b860c4e7c0f534cf0d1.dl.dropboxusercontent.com)|162.125.5.15|:443... connected.\n",
            "HTTP request sent, awaiting response... 200 OK\n",
            "Length: 1718 (1.7K) [text/plain]\n",
            "Saving to: ‘cpt_convert.py’\n",
            "\n",
            "cpt_convert.py      100%[===================>]   1.68K  --.-KB/s    in 0s      \n",
            "\n",
            "2022-03-30 11:55:04 (222 MB/s) - ‘cpt_convert.py’ saved [1718/1718]\n",
            "\n",
            "--2022-03-30 11:55:04--  https://www.dropbox.com/s/74vlk75bkh3fzaz/IR4AVHRR6.cpt\n",
            "Resolving www.dropbox.com (www.dropbox.com)... 162.125.3.18, 2620:100:6018:18::a27d:312\n",
            "Connecting to www.dropbox.com (www.dropbox.com)|162.125.3.18|:443... connected.\n",
            "HTTP request sent, awaiting response... 301 Moved Permanently\n",
            "Location: /s/raw/74vlk75bkh3fzaz/IR4AVHRR6.cpt [following]\n",
            "--2022-03-30 11:55:04--  https://www.dropbox.com/s/raw/74vlk75bkh3fzaz/IR4AVHRR6.cpt\n",
            "Reusing existing connection to www.dropbox.com:443.\n",
            "HTTP request sent, awaiting response... 302 Found\n",
            "Location: https://ucd565701943a5ecd7c5ab8c5478.dl.dropboxusercontent.com/cd/0/inline/BicWoI8qOL63atbi8WVUQsZgq-tw_p-auiFvc800QjjJS5IflimqoV_CtaySRKZGKb81F1VxzAwLCACfqZNZDLSeyhtTlfV9mrNfhXFAMWT3YemdN0hyO4taIWQP1Zekj5ETT-ru4t0fvlkUGiYjpO5kIJOjjdYILuVHDM5j_uSwRw/file# [following]\n",
            "--2022-03-30 11:55:04--  https://ucd565701943a5ecd7c5ab8c5478.dl.dropboxusercontent.com/cd/0/inline/BicWoI8qOL63atbi8WVUQsZgq-tw_p-auiFvc800QjjJS5IflimqoV_CtaySRKZGKb81F1VxzAwLCACfqZNZDLSeyhtTlfV9mrNfhXFAMWT3YemdN0hyO4taIWQP1Zekj5ETT-ru4t0fvlkUGiYjpO5kIJOjjdYILuVHDM5j_uSwRw/file\n",
            "Resolving ucd565701943a5ecd7c5ab8c5478.dl.dropboxusercontent.com (ucd565701943a5ecd7c5ab8c5478.dl.dropboxusercontent.com)... 162.125.3.15, 2620:100:6018:15::a27d:30f\n",
            "Connecting to ucd565701943a5ecd7c5ab8c5478.dl.dropboxusercontent.com (ucd565701943a5ecd7c5ab8c5478.dl.dropboxusercontent.com)|162.125.3.15|:443... connected.\n",
            "HTTP request sent, awaiting response... 302 Found\n",
            "Location: /cd/0/inline2/Bid1YugMeGo99Qw9Vx3KAdMOeAIW0qmh5dIT0Whh7RK9T-8ljcaJlz9ZbjyhBXpxkijKvxbduo1xPs2PkYKUd_xoN2z4q4uzW7IC18cKYa_lfQq0yMgBn9OKQkUKfNNil7wa0Kxq5-rS5-Qh9E25BnzBiv18gBoBRGSs5IbBK6Us-YONvysOVgoTYXj6DV-EAhawIECFVLeKhawPU8QDD6tt7AmZ9gQ9Dy4Pix_CgNCxZJ_QzQ5qDnwxo2qqZv80ZmBrrsv4C3gZoUdCTfYRxqgb6ekUEgfw002YYPYylRE6AUf6xVhxxWp6r7qPTh5AoX9_5JGDQkqlD-PFqDFQ5MSvWRap4rF5jByWVyckPInRVy6clfnJxWP0lFZH6cr2881UcvdBlVQGUQ1Qta94ssH5r6Cj1J804AQ1Dm4aUXhOqw/file [following]\n",
            "--2022-03-30 11:55:05--  https://ucd565701943a5ecd7c5ab8c5478.dl.dropboxusercontent.com/cd/0/inline2/Bid1YugMeGo99Qw9Vx3KAdMOeAIW0qmh5dIT0Whh7RK9T-8ljcaJlz9ZbjyhBXpxkijKvxbduo1xPs2PkYKUd_xoN2z4q4uzW7IC18cKYa_lfQq0yMgBn9OKQkUKfNNil7wa0Kxq5-rS5-Qh9E25BnzBiv18gBoBRGSs5IbBK6Us-YONvysOVgoTYXj6DV-EAhawIECFVLeKhawPU8QDD6tt7AmZ9gQ9Dy4Pix_CgNCxZJ_QzQ5qDnwxo2qqZv80ZmBrrsv4C3gZoUdCTfYRxqgb6ekUEgfw002YYPYylRE6AUf6xVhxxWp6r7qPTh5AoX9_5JGDQkqlD-PFqDFQ5MSvWRap4rF5jByWVyckPInRVy6clfnJxWP0lFZH6cr2881UcvdBlVQGUQ1Qta94ssH5r6Cj1J804AQ1Dm4aUXhOqw/file\n",
            "Reusing existing connection to ucd565701943a5ecd7c5ab8c5478.dl.dropboxusercontent.com:443.\n",
            "HTTP request sent, awaiting response... 200 OK\n",
            "Length: 8725 (8.5K) [image/x-corelphotopaint]\n",
            "Saving to: ‘IR4AVHRR6.cpt’\n",
            "\n",
            "IR4AVHRR6.cpt       100%[===================>]   8.52K  --.-KB/s    in 0s      \n",
            "\n",
            "2022-03-30 11:55:05 (152 MB/s) - ‘IR4AVHRR6.cpt’ saved [8725/8725]\n",
            "\n"
          ]
        }
      ]
    },
    {
      "cell_type": "markdown",
      "metadata": {
        "id": "lomA446p7DN5"
      },
      "source": [
        "# **Importa as bibliotecas**"
      ]
    },
    {
      "cell_type": "code",
      "metadata": {
        "id": "V8rQ81eCv_qz",
        "colab": {
          "base_uri": "https://localhost:8080/"
        },
        "outputId": "eaa377a9-6d27-470f-f195-e3b75ce4f2a7"
      },
      "source": [
        "import pandas as pd\n",
        "import xarray as xr\n",
        "import numpy as np\n",
        "import proplot as plot\n",
        "import cartopy.crs as ccrs\n",
        "import cartopy.io.shapereader as shpreader\n",
        "import matplotlib.pyplot as plt\n",
        "import os\n",
        "import matplotlib\n",
        "from matplotlib.patches import Polygon\n",
        "from matplotlib.collections import PatchCollection\n",
        "from datetime import datetime, timedelta\n",
        "from google.colab import drive\n",
        "drive.mount('/content/drive')\n",
        "import matplotlib\n",
        "matplotlib.rcParams.update({'font.size':22})\n",
        "from matplotlib import pyplot as plt\n",
        "from cpt_convert import loadCPT # Importando a função CPT convert \n",
        "from matplotlib.colors import LinearSegmentedColormap # interpolação linear para as cores dos mapas\n",
        "\n",
        "import warnings\n",
        "warnings.filterwarnings(\"ignore\")"
      ],
      "execution_count": null,
      "outputs": [
        {
          "output_type": "stream",
          "name": "stderr",
          "text": [
            "/usr/local/lib/python3.7/dist-packages/proplot/config.py:1454: ProPlotWarning: Rebuilding font cache.\n"
          ]
        },
        {
          "output_type": "stream",
          "name": "stdout",
          "text": [
            "Mounted at /content/drive\n"
          ]
        }
      ]
    },
    {
      "cell_type": "markdown",
      "metadata": {
        "id": "lm9Wtd0VQOXV"
      },
      "source": [
        "# **Importa funções**"
      ]
    },
    {
      "cell_type": "code",
      "metadata": {
        "id": "tg_sG7_ZQNsv"
      },
      "source": [
        "#----------------------------------------------------------------------------------- \n",
        "# Função que plota os Estados \n",
        "#----------------------------------------------------------------------------------- \n",
        "def evm_plot_states():\n",
        "    shapefile = list(shpreader.Reader('/content/arquivos_auxiliares/BR_UF_2019.shp').geometries())\n",
        "    ax.add_geometries(shapefile, ccrs.PlateCarree(), edgecolor='black',facecolor='none', linewidth=1.0)   "
      ],
      "execution_count": null,
      "outputs": []
    },
    {
      "cell_type": "markdown",
      "metadata": {
        "id": "Lf7YfSN6tgk3"
      },
      "source": [
        "# **PROCESSAMENTO DOS DADOS:** Nesta etapa serão utilizados os dados de **relâmpagos** do sensor GLM e **temperatura de brilho** do canal infravermelho do sensor ABI, ambos pertencentes ao satélite GOES-16. Serão produzidas as seguintes figuras:\n",
        "\n",
        "1.   **Mapa espacial** da temperatua do canal infravermelho do satélite e relâmpagos do satélite GOES-16."
      ]
    },
    {
      "cell_type": "markdown",
      "metadata": {
        "id": "LII4bfBDtx6j"
      },
      "source": [
        "## **Baixando os dados do sensor ABI:**"
      ]
    },
    {
      "cell_type": "code",
      "metadata": {
        "colab": {
          "base_uri": "https://localhost:8080/"
        },
        "id": "ZR1k_WEzEHlC",
        "outputId": "68bf2c40-e618-41ce-ffa3-268672a82398"
      },
      "source": [
        "# Endereço do FTP do CPTEC-INPE\n",
        "ftp_cptec = 'ftp.cptec.inpe.br'\n",
        "\n",
        "# ---------------------------------------------------------- #\n",
        "#              BAIXANDO DOS DO ABI\n",
        "# ---------------------------------------------------------- #\n",
        "# Nome do arquivo\n",
        "file_ir =  f'{ftp_cptec}/goes/goes16/retangular/ch13/{ano}/{mes}/S10635346_{ano}{mes}{dia}{hor}{minu}.nc'\n",
        "\n",
        "# Download dos arquivos\n",
        "!wget -c {file_ir} -P /content/input/"
      ],
      "execution_count": null,
      "outputs": [
        {
          "output_type": "stream",
          "name": "stdout",
          "text": [
            "--2022-03-30 11:55:33--  http://ftp.cptec.inpe.br/goes/goes16/retangular/ch13/2022/03/S10635346_202203061730.nc\n",
            "Resolving ftp.cptec.inpe.br (ftp.cptec.inpe.br)... 150.163.141.22\n",
            "Connecting to ftp.cptec.inpe.br (ftp.cptec.inpe.br)|150.163.141.22|:80... connected.\n",
            "HTTP request sent, awaiting response... 200 OK\n",
            "Length: 13712497 (13M) [application/x-netcdf]\n",
            "Saving to: ‘/content/input/S10635346_202203061730.nc’\n",
            "\n",
            "S10635346_202203061 100%[===================>]  13.08M   822KB/s    in 34s     \n",
            "\n",
            "2022-03-30 11:56:09 (391 KB/s) - ‘/content/input/S10635346_202203061730.nc’ saved [13712497/13712497]\n",
            "\n"
          ]
        }
      ]
    },
    {
      "cell_type": "markdown",
      "metadata": {
        "id": "O0urjHl6KiO3"
      },
      "source": [
        "## **Baixando os dados do sensor GLM:**"
      ]
    },
    {
      "cell_type": "code",
      "metadata": {
        "colab": {
          "base_uri": "https://localhost:8080/"
        },
        "id": "I7mgdTFrEHoM",
        "outputId": "fafcae4d-152d-4d14-f33b-b4651a710aea"
      },
      "source": [
        "# ---------------------------------------------------------- #\n",
        "#              BAIXANDO DOS DO GLM \n",
        "# ---------------------------------------------------------- #\n",
        "# S11635949_202009010000.nc\t\n",
        "path_glm = '/goes/goes16/goes16_web/glm_acumulado_nc/' ; path_total = f'{ftp_cptec}{path_glm}'\n",
        "\n",
        "# primeiro arquivo: 5min\n",
        "#basename_glm_5min = f'S11635949_{ano}{mes}{dia}{hor}{minu}.nc'\n",
        "\n",
        "# segundo arquivo: 10min\n",
        "date_10min = str(datetime(int(ano), int(mes), int(dia), int(hor), int(minu)) + timedelta(minutes=5)) # calcula a imagem + 5min\n",
        "ano_10min = datetime.strptime(date_10min, '%Y-%m-%d %H:%M:%S').strftime('%Y')  # extrai o ano \n",
        "mes_10min = datetime.strptime(date_10min, '%Y-%m-%d %H:%M:%S').strftime('%m')  # extrai o mes \n",
        "dia_10min = datetime.strptime(date_10min, '%Y-%m-%d %H:%M:%S').strftime('%d')  # extrai o dia \n",
        "hor_10min = datetime.strptime(date_10min, '%Y-%m-%d %H:%M:%S').strftime('%H')  # extrai o hora \n",
        "minu_10min = datetime.strptime(date_10min, '%Y-%m-%d %H:%M:%S').strftime('%M') # extrai o minuto\n",
        "basename_glm_10min = f'S11635949_{ano_10min}{mes_10min}{dia_10min}{hor_10min}{minu_10min}.nc'\n",
        "\n",
        " # path + nome dos arquivos\n",
        "#file_glm_5min = f'{path_total}{ano}/{mes}/{basename_glm_5min}'\n",
        "file_glm_10min = f'{path_total}{ano_10min}/{mes}/{basename_glm_10min}'\n",
        "\n",
        "# Download dos arquivos\n",
        "#!wget -c {file_glm_5min} -P /content/input/\n",
        "!wget -c {file_glm_10min} -P /content/input/"
      ],
      "execution_count": null,
      "outputs": [
        {
          "output_type": "stream",
          "name": "stdout",
          "text": [
            "--2022-03-30 11:56:09--  http://ftp.cptec.inpe.br/goes/goes16/goes16_web/glm_acumulado_nc/2022/03/S11635949_202203061735.nc\n",
            "Resolving ftp.cptec.inpe.br (ftp.cptec.inpe.br)... 150.163.141.22\n",
            "Connecting to ftp.cptec.inpe.br (ftp.cptec.inpe.br)|150.163.141.22|:80... connected.\n",
            "HTTP request sent, awaiting response... 200 OK\n",
            "Length: 246563 (241K) [application/x-netcdf]\n",
            "Saving to: ‘/content/input/S11635949_202203061735.nc’\n",
            "\n",
            "S11635949_202203061 100%[===================>] 240.78K   281KB/s    in 0.9s    \n",
            "\n",
            "2022-03-30 11:56:11 (281 KB/s) - ‘/content/input/S11635949_202203061735.nc’ saved [246563/246563]\n",
            "\n"
          ]
        }
      ]
    },
    {
      "cell_type": "markdown",
      "metadata": {
        "id": "1iW6rtwkfMBm"
      },
      "source": [
        "# **Plotando o mapa espacial: CH13 + GLM Flashes** \n"
      ]
    },
    {
      "cell_type": "code",
      "metadata": {
        "colab": {
          "base_uri": "https://localhost:8080/",
          "height": 886
        },
        "id": "XHLcGkEtEHrQ",
        "outputId": "d3df040c-2669-4e3d-bc84-935b46888fba"
      },
      "source": [
        "\n",
        "basename = os.path.basename(os.path.splitext(file_ir)[0]) \n",
        "file = f'/content/input/{basename}.nc'\n",
        "\n",
        "# Leitura do arquivo\n",
        "imagem = xr.open_dataset(file)\n",
        "\n",
        "# Extrai os limites das latitudes e longitudes\n",
        "latmin, latmax, lonmin, lonmax = float(imagem['lat'][0]), float(imagem['lat'][-1]), float(imagem['lon'][0]), float(imagem['lon'][-1])\n",
        "# lats/lons do quadrado limitando o Brasil\n",
        "latmin1, latmax1, lonmin1, lonmax1 = -35, 7, -75, -32\n",
        "\n",
        "# Divide por 100 e transforma para Celsius\n",
        "imagem = (imagem['Band1']/100.)-273.15\n",
        "\n",
        "# Inverte a matriz\n",
        "imagem = np.flipud(imagem)\n",
        "\n",
        "# Plotando a figura\n",
        "fig, ax = plot.subplots(axwidth=8, axheight=8, tight=True, proj='pcarree')\n",
        "\n",
        "# define formato da figura\n",
        "ax.format(coast=True, borders=True, innerborders=False, labels=True, latlines=10, lonlines=10,\n",
        "          latlim=(latmin1,latmax1), lonlim=(lonmin1,lonmax1), fontsize=11, \n",
        "          title=f'GOES-13 CH13 (10,35 µm) + Relâmpagos GLM: {ano}-{mes}-{dia} às {hor}:{minu} UTC', small='25px', large='25px')\n",
        "\n",
        "\n",
        "\n",
        "# Carrega tabela de cores do Infravermelho\n",
        "cpt_ir = loadCPT('/content/IR4AVHRR6.cpt'); cpt_convert_ir = LinearSegmentedColormap('cpt_ir', cpt_ir)\n",
        "# limites da paleta de cores\n",
        "vmin_ir = -103.0 \n",
        "vmax_ir = 105   \n",
        "\n",
        "# Plota a variável: Infravermelho\n",
        "map1 = ax.imshow(imagem, vmin=vmin_ir, vmax=vmax_ir, cmap=cpt_convert_ir, extent=[lonmin, lonmax, latmin, latmax],\n",
        "                 levels=plot.arange(vmin_ir, vmax_ir, 1.0))\n",
        "\n",
        "#---------------------------------------------#\n",
        "#              plota flashes GLM\n",
        "#---------------------------------------------#\n",
        "# 5 min\n",
        "'''\n",
        "glm_5min = xr.open_dataset(f'/content/input/{basename_glm_5min}')\n",
        "df = glm_5min.to_dataframe().reset_index().dropna()\n",
        "ax.scatter(df['lon'].values, df['lat'].values, transform=ccrs.PlateCarree(), marker='x', s=5, color='b')    \n",
        "\n",
        "flash5 = df['flash'].sum()\n",
        "ax.text(-68.,-31.5, f'Flash 5min:   {flash5}', color = 'b', va=\"top\", fontsize = 11)\n",
        "'''\n",
        "\n",
        "patches_m = []\n",
        "midwest = np.array([[-43.2,-28.5],[-43.2,-31.2],[-32.5,-31.2],[-32.5,-28.5]])\n",
        "patches_m.append(Polygon(midwest))\n",
        "ax.add_collection(PatchCollection(patches_m, facecolor='white', edgecolor='black', linewidths=0.5))\n",
        "\n",
        "# 10 min\n",
        "glm_10min = xr.open_dataset(f'/content/input/{basename_glm_10min}')\n",
        "df = glm_10min.to_dataframe().reset_index().dropna()\n",
        "ax.scatter(df['lon'].values, df['lat'].values, transform=ccrs.PlateCarree(), marker=\"x\",alpha=0.9,s=2, color='fuchsia')  \n",
        "\n",
        "flash10 = df['flash'].sum()\n",
        "#flash10 = '{:f}'.format(flash10)\n",
        "flash10 = int(flash10)\n",
        "ax.text(-43.,-29.5, f'Relâmpagos 10 min:  {flash10}', color = 'k', va=\"top\", fontsize = 11)\n",
        "\n",
        "# plota contornos dos Estados\n",
        "evm_plot_states()\n",
        "\n",
        "# plota barra de cores da figura\n",
        "fig.colorbar(map1, loc='r', label='Temperatura ($\\degree$C)', ticks=25, ticklabelsize=13, labelsize=15, space=0.1, length=0.92)\n",
        "\n",
        "# salva figura\n",
        "fig.save(f'{path_fig}Fig4_goes16_glm_ch13_{ano}{mes}{dia}_{hor}{minu}.jpg', dpi=300, bbox_inches='tight')\n",
        "\n",
        "# exibe a figura na tela\n",
        "plot.show() "
      ],
      "execution_count": null,
      "outputs": []
    },
    {
      "cell_type": "code",
      "source": [
        ""
      ],
      "metadata": {
        "id": "71l4kfatOXpc"
      },
      "execution_count": null,
      "outputs": []
    }
  ]
}